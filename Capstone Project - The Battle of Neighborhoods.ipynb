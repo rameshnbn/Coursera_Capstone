{
 "cells": [
  {
   "cell_type": "markdown",
   "metadata": {},
   "source": [
    "# Capstone Project - The Battle of Neighborhoods\n",
    "#### by Ramesh NBN"
   ]
  },
  {
   "cell_type": "markdown",
   "metadata": {},
   "source": [
    "## Introduction/Business Problem"
   ]
  },
  {
   "cell_type": "markdown",
   "metadata": {},
   "source": [
    "Introduction where you discuss the business problem and who would be interested in this project."
   ]
  },
  {
   "cell_type": "markdown",
   "metadata": {},
   "source": [
    "#### \"Would you recommend a location in Hyderabad to open a new cinema theatre?\"  \n",
    "My friend, the stakeholder wants to **open a new cinema theatre as his company's new business** and asked me this question.\n",
    "  \n",
    "He explains that in customer point of view, watching movie is a part of whole afternoon or night activities. Cinema should has **many restaurants and shopping places nearby**. Transportation is also an important factor. Customer can walk to cinema within **5 minutes** from **public transport facilities** such as bus stop and metro station.  \n",
    "  \n",
    "He wants me to concentrate on selection of cinema location according to its nearby environment. Cinema facility and rental price is not my concern. He lists out his **top 15 favorite cinemas** in Hyderabad.  \n",
    "\n",
    "I work on this project and select **5 possible locations** to build a new cinema theatre. Which location should be suggested to the stakeholder?"
   ]
  },
  {
   "cell_type": "markdown",
   "metadata": {},
   "source": [
    "## Data"
   ]
  },
  {
   "cell_type": "markdown",
   "metadata": {},
   "source": [
    "Data where you describe the data that will be used to solve the problem and the source of the data. The coding part for this data gathering and processing will be done in the final project."
   ]
  },
  {
   "cell_type": "markdown",
   "metadata": {},
   "source": [
    "According to the question, I need to find following data to resolve the problem."
   ]
  },
  {
   "cell_type": "markdown",
   "metadata": {},
   "source": [
    "#### 1. Geographic coordinate of Hyderabad cinemas\n",
    "\n",
    "I need to **compare 5 possible locations with current cinemas** in Hyderabad. Therefore, I need to find a list of Hyderabad cinema and cinemas' geographic coordinates. I can gather this data through different sources such as google, foursquare, maps of India etc."
   ]
  },
  {
   "cell_type": "markdown",
   "metadata": {},
   "source": [
    "#### 2. Geographic coordinates of 5 possible cinema addresses\n",
    "I also need to know the geographic coordinates of 5 possible cinemas. I can use Google Map API to find this information"
   ]
  },
  {
   "cell_type": "markdown",
   "metadata": {},
   "source": [
    "#### 3. Favorite cinema list of stakeholder"
   ]
  },
  {
   "cell_type": "markdown",
   "metadata": {},
   "source": [
    "The favorite cinema list is an important information that I can **use it as profile to select the best location**.  \n",
    "Stakeholder further explains that the rating is range of 1.0 (worst) to 5.0 (best) values"
   ]
  },
  {
   "cell_type": "markdown",
   "metadata": {},
   "source": [
    "#### 4. Eating, Shopping and Public transportation facility around cinema\n",
    "The recommended cinema location needs to have many eating and shopping venues nearby. Convenient public transport is also required.  \n",
    "I can use FourSquare API to find these venues around the location. \n",
    "\n",
    "5 minutes walking distance is about 500m. I think it is the suitable distance to search nearby venues."
   ]
  },
  {
   "cell_type": "markdown",
   "metadata": {},
   "source": [
    "However, the API provides maximum 50 results only, so it is better to search venues by category. Following categories will be used for finding the target venues. Full list of categories: https://developer.foursquare.com/docs/resources/categories"
   ]
  },
  {
   "cell_type": "markdown",
   "metadata": {},
   "source": [
    "With above data, I can build a **content-based recommender systems** to resolve the problem.  \n",
    "\n",
    "Combine with FourSquare API on counting how many different venues (Food, Transport, Night Life) and Hyderabad cinema list, a **cinema nearby venues matrix** can be built. Stakeholder's favorite list is the **profile** to combine with cinema nearby venues matrix to become a **weighted matrix of favorite cinema**.\n",
    "\n",
    "The weighted matrix can be applied on **5 possible locations with venues information** to generate a ranking result. The **the top one** on the ranking list can be recommended to the stakeholder.\n"
   ]
  },
  {
   "cell_type": "markdown",
   "metadata": {},
   "source": [
    "## Methodology "
   ]
  },
  {
   "cell_type": "markdown",
   "metadata": {},
   "source": [
    "Methodology section which represents the main component of the report where you discuss and describe any exploratory data analysis that you did, any inferential statistical testing that you performed, and what machine learnings were used and why."
   ]
  },
  {
   "cell_type": "markdown",
   "metadata": {},
   "source": [
    "TBD"
   ]
  },
  {
   "cell_type": "markdown",
   "metadata": {},
   "source": [
    "## Results "
   ]
  },
  {
   "cell_type": "markdown",
   "metadata": {},
   "source": [
    "Results section where you discuss the results."
   ]
  },
  {
   "cell_type": "markdown",
   "metadata": {},
   "source": [
    "TBD"
   ]
  },
  {
   "cell_type": "markdown",
   "metadata": {},
   "source": [
    "## Discussion "
   ]
  },
  {
   "cell_type": "markdown",
   "metadata": {},
   "source": [
    "Discussion section where you discuss any observations you noted and any recommendations you can make based on the results.TBC"
   ]
  },
  {
   "cell_type": "markdown",
   "metadata": {},
   "source": [
    "TBD"
   ]
  },
  {
   "cell_type": "markdown",
   "metadata": {},
   "source": [
    "## Conclusion "
   ]
  },
  {
   "cell_type": "markdown",
   "metadata": {},
   "source": [
    "Conclusion section where you conclude the report."
   ]
  },
  {
   "cell_type": "markdown",
   "metadata": {},
   "source": [
    "TBD"
   ]
  }
 ],
 "metadata": {
  "kernelspec": {
   "display_name": "Python 3",
   "language": "python",
   "name": "python3"
  },
  "language_info": {
   "codemirror_mode": {
    "name": "ipython",
    "version": 3
   },
   "file_extension": ".py",
   "mimetype": "text/x-python",
   "name": "python",
   "nbconvert_exporter": "python",
   "pygments_lexer": "ipython3",
   "version": "3.7.3"
  }
 },
 "nbformat": 4,
 "nbformat_minor": 2
}
